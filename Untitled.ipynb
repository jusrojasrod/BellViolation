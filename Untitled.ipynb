{
 "cells": [
  {
   "cell_type": "code",
   "execution_count": 1,
   "id": "a51017cd-3686-4346-b98d-6042b9e8ab1e",
   "metadata": {
    "tags": []
   },
   "outputs": [],
   "source": [
    "import  numpy as np\n",
    "\n",
    "# Importing standard Qiskit libraries\n",
    "from qiskit import QuantumCircuit, transpile\n",
    "from qiskit.tools.jupyter import *\n",
    "from qiskit.visualization import *\n",
    "from ibm_quantum_widgets import *\n",
    "from qiskit_aer import AerSimulator\n",
    "from qiskit.circuit import Parameter\n",
    "\n",
    "# qiskit-ibmq-provider has been deprecated.\n",
    "# Please see the Migration Guides in https://ibm.biz/provider_migration_guide for more detail.\n",
    "from qiskit_ibm_runtime import QiskitRuntimeService, Sampler, Estimator, Session, Options\n",
    "from qiskit.quantum_info import SparsePauliOp\n",
    "\n",
    "# Loading your IBM Quantum account(s)\n",
    "service = QiskitRuntimeService(channel=\"ibm_quantum\")\n",
    "\n",
    "# Invoke a primitive inside a session. For more details see https://qiskit.org/documentation/partners/qiskit_ibm_runtime/tutorials.html\n",
    "# with Session(backend=service.backend(\"ibmq_qasm_simulator\")):\n",
    "#     result = Sampler().run(circuits).result()"
   ]
  },
  {
   "cell_type": "markdown",
   "id": "0fc63537-7f31-4d7b-a055-d7ee192a5f56",
   "metadata": {
    "tags": []
   },
   "source": [
    "Para este experimento supangamos un par entrelazado de quibits al queremos realizarle ciertas mediciones. Para cada quibit supondremos dos diferentes orientaciones, para ubicar un polarizador,elegidas por un observador ubicado junto a cada qubit. Para el observador uno dicho polarizador tendra los angulos $\\alpha$ y  $\\gamma$ respecto a un eje arbitrario. Cada orientación  puede resultar en uno de posibles resultados. Es decir, $\\alpha \\rightarrow a \\pm 1$. Analogamente, para el ángulo $\\gamma$, tendra como resultado $c \\pm 1$, determinado por las mismas variables ocultas que con la elección de $\\alpha$. La situación para el segundo observador es analoga, solo difiere en que este puede medir lo ángulos $\\beta$ y $\\gamma$ (el mismo ángulo que el primer observador) cuyos resultados en una medición pueden ser $b\\pm 1$ y $c\\pm 1$ respectivamente.\n",
    "\n",
    "\n",
    "Los resultados a, b y c deben satisfacer\n",
    "\n",
    "\\begin{equation}\n",
    "    a(b - c) = 1 - bc\n",
    "\\end{equation}\n",
    "\n",
    "Dado que cada resultado solo puede ser $\\pm1$, la anterior expresión expresión debe satisfacer la siguiente desigualdad\n",
    "\n",
    "\\begin{equation}\n",
    "    |<ab> - <ac>| \\le 1 - <bc>\n",
    "\\end{equation}\n",
    "\n",
    "\n",
    "Primero vamos generar el estado entrelazado entre un par de qubits descrito por el estado de Bell \n",
    "\\begin{equation}\n",
    "    |\\phi_{+}> = \\frac{|00> + |11>}{\\sqrt{2}}\n",
    "\\end{equation}\n",
    "    \n",
    "Mediremos entonces el segundo qubit en la orientación $Z$ y $X$, mientras que el primer qubit se medirá en una base ortogonal con un ángulo respecto al segundo qubit. Dicho angulo va a tomar valores entre $0$ y $2\\pi$."
   ]
  },
  {
   "cell_type": "markdown",
   "id": "1c0889aa-8b46-446d-b8c6-b1b2b050c1b4",
   "metadata": {
    "tags": []
   },
   "source": [
    "Creamos el circuito para realizar las medicones. Además, para evitar crear valios circuitos con la intensión de variar el ángulo entre las bases del obsevador 1 y el 2, definiremos el parámetro theta que variara entre $0$ y $2\\pi$."
   ]
  },
  {
   "cell_type": "code",
   "execution_count": 2,
   "id": "ef6a01e2-b99c-4f26-ae3d-97234710d814",
   "metadata": {
    "tags": []
   },
   "outputs": [
    {
     "data": {
      "image/png": "[encoded data removed]",
      "text/plain": [
       "<Figure size 370.906x200.667 with 1 Axes>"
      ]
     },
     "execution_count": 2,
     "metadata": {},
     "output_type": "execute_result"
    }
   ],
   "source": [
    "theta = Parameter(\"$//theta$\")\n",
    "\n",
    "bell_circuits_no_meas = QuantumCircuit(2)\n",
    "bell_circuits_no_meas.h(0)\n",
    "bell_circuits_no_meas.cx(0, 1)\n",
    "bell_circuits_no_meas.ry(theta, 0)\n",
    "bell_circuits_no_meas.draw(\"mpl\")"
   ]
  },
  {
   "cell_type": "code",
   "execution_count": 3,
   "id": "b5893579-b98e-496e-9ead-0edf91667cc2",
   "metadata": {
    "tags": []
   },
   "outputs": [],
   "source": [
    "number_of_phases = 36\n",
    "phases = np.linspace(0, 2*np.pi, number_of_phases)\n",
    "# Las fases deben estar expresadas como una lista\n",
    "individual_phases = [[ph] for ph in phases]"
   ]
  },
  {
   "cell_type": "code",
   "execution_count": 4,
   "id": "a9652345-da85-42fa-8589-eafc16f9f43f",
   "metadata": {
    "tags": []
   },
   "outputs": [],
   "source": [
    "# Conectar al servicio de qiskit\n",
    "service = QiskitRuntimeService()#\n",
    "backend = \"ibmq_qasm_simulator\"  "
   ]
  },
  {
   "cell_type": "markdown",
   "id": "82b59d48-1916-4fd7-bfb3-b9a5c5edbd76",
   "metadata": {
    "tags": []
   },
   "source": [
    "Definimos los operadores para los cuales se calcularan los valores esperados que aparecen en la desigualdad. Tendremos una base ortogonal apra cada qubit, dejando que la rotación $Y$ parametrizado para el primer qubit cambia la base de medición respecto al segundo qubit. Luego, se tendran los siguientes observables $ZZ, ZX, XZ$ y $XX$."
   ]
  },
  {
   "cell_type": "code",
   "execution_count": 5,
   "id": "9652ba32-02a3-4c63-bb34-648d3b433fd1",
   "metadata": {
    "tags": []
   },
   "outputs": [],
   "source": [
    "ZZ = SparsePauliOp.from_list([(\"ZZ\", 1)])\n",
    "ZX = SparsePauliOp.from_list([(\"ZX\", 1)])\n",
    "XZ = SparsePauliOp.from_list([(\"XZ\", 1)])\n",
    "\n",
    "ops = [ZZ, ZX, XZ]\n",
    "bell_est_sim = []                                                              # guarda el valor de los observables para cada uno de los theta\n",
    "\n",
    "# Simulator\n",
    "with Session(service=service, backend=backend):\n",
    "    estimator = Estimator()                                                     # provee los valores esperados de los observadores definidos  \n",
    "    for op in ops:\n",
    "        job = estimator.run(\n",
    "            circuits=[bell_circuits_no_meas] * len(individual_phases),         # crea un circiito para cada fase\n",
    "            observables=[op] * len(individual_phases),\n",
    "                        parameter_values=individual_phases,)\n",
    "        est_result = job.result()\n",
    "        bell_est_sim.append(est_result)"
   ]
  },
  {
   "cell_type": "markdown",
   "id": "d1f88b0b-96e5-4f3d-bd44-af660579c44b",
   "metadata": {
    "tags": []
   },
   "source": [
    "Ahora, reemplazamos los valores de los valores esperados en la desigualdad"
   ]
  },
  {
   "cell_type": "code",
   "execution_count": 6,
   "id": "acef0105-580e-459b-a117-2128ea916738",
   "metadata": {
    "tags": []
   },
   "outputs": [],
   "source": [
    "# <bell> = |<ab> - <ac>| + <bc>\n",
    "a = 2\n",
    "b = 1\n",
    "c = 0\n",
    "bell_est_sim1 = bell_est_sim[a].values - bell_est_sim[b].values + bell_est_sim[c].values\n",
    "bell_est_sim2 = bell_est_sim[a].values - bell_est_sim[b].values - bell_est_sim[c].values"
   ]
  },
  {
   "cell_type": "code",
   "execution_count": 7,
   "id": "edb1ca20-4d08-4664-a816-eb5d6633d73a",
   "metadata": {
    "tags": []
   },
   "outputs": [
    {
     "data": {
      "text/plain": [
       "array([0.        , 0.17951958, 0.35903916, 0.53855874, 0.71807832,\n",
       "       0.8975979 , 1.07711748, 1.25663706, 1.43615664, 1.61567622,\n",
       "       1.7951958 , 1.97471538, 2.15423496, 2.33375454, 2.51327412,\n",
       "       2.6927937 , 2.87231328, 3.05183286, 3.23135244, 3.41087202,\n",
       "       3.5903916 , 3.76991118, 3.94943076, 4.12895034, 4.30846992,\n",
       "       4.48798951, 4.66750909, 4.84702867, 5.02654825, 5.20606783,\n",
       "       5.38558741, 5.56510699, 5.74462657, 5.92414615, 6.10366573,\n",
       "       6.28318531])"
      ]
     },
     "execution_count": 7,
     "metadata": {},
     "output_type": "execute_result"
    }
   ],
   "source": [
    "phases"
   ]
  },
  {
   "cell_type": "code",
   "execution_count": 11,
   "id": "3a6617b5-b06f-4363-9edb-0d52e0c534f8",
   "metadata": {
    "tags": []
   },
   "outputs": [
    {
     "data": {
      "text/plain": [
       "5.20606783"
      ]
     },
     "execution_count": 11,
     "metadata": {},
     "output_type": "execute_result"
    }
   ],
   "source": [
    "5.20606783"
   ]
  },
  {
   "cell_type": "code",
   "execution_count": null,
   "id": "18ffa5c8-dc2f-4478-a9d0-2a218977da09",
   "metadata": {},
   "outputs": [],
   "source": []
  },
  {
   "cell_type": "code",
   "execution_count": 9,
   "id": "dd3807f2-c7cc-46b2-897f-43b3a75fc79f",
   "metadata": {
    "tags": []
   },
   "outputs": [
    {
     "data": {
      "text/plain": [
       "array([ 0.9945,  0.645 ,  0.222 , -0.158 , -0.591 , -0.922 , -1.2545,\n",
       "       -1.631 , -1.818 , -2.016 , -2.203 , -2.2325, -2.2495, -2.1625,\n",
       "       -1.9945, -1.771 , -1.501 , -1.1605, -0.838 , -0.437 , -0.0205,\n",
       "        0.3705,  0.742 ,  1.127 ,  1.4665,  1.7095,  1.9785,  2.113 ,\n",
       "        2.19  ,  2.2525,  2.19  ,  2.0855,  1.885 ,  1.594 ,  1.311 ,\n",
       "        1.02  ])"
      ]
     },
     "execution_count": 9,
     "metadata": {},
     "output_type": "execute_result"
    }
   ],
   "source": [
    "bell_est_sim1"
   ]
  },
  {
   "cell_type": "code",
   "execution_count": 10,
   "id": "8d2c3fe1-8afa-428f-adad-82eddc17cb57",
   "metadata": {
    "tags": []
   },
   "outputs": [
    {
     "data": {
      "text/plain": [
       "<matplotlib.legend.Legend at 0x7f53bc3a5390>"
      ]
     },
     "execution_count": 10,
     "metadata": {},
     "output_type": "execute_result"
    },
    {
     "data": {
      "image/png": "[encoded data removed]",
      "text/plain": [
       "<Figure size 800x400 with 1 Axes>"
      ]
     },
     "metadata": {},
     "output_type": "display_data"
    }
   ],
   "source": [
    "import matplotlib.pyplot as plt\n",
    "import matplotlib.ticker as tck\n",
    "\n",
    "fig, ax = plt.subplots(figsize=(8, 4))\n",
    "# results from a simulator\n",
    "ax.plot(phases / np.pi, bell_est_sim1, \"o-\", label=\"Bell1 Simulation\")\n",
    "# ax.plot(phases / np.pi, bell_est_sim2, \"o-\", label=\"Bell2 Simulation\")\n",
    "# classical bound +-2\n",
    "ax.axhline(y=1, color=\"r\", linestyle=\"--\")\n",
    "ax.axhline(y=-1, color=\"r\", linestyle=\"--\")\n",
    "ax.axhline(y=bell_est_sim1.max(), color=\"b\", linestyle=\"--\")\n",
    "ax.axhline(y=bell_est_sim1.min(), color=\"b\", linestyle=\"--\")\n",
    "# set x tick labels to the unit of pi\n",
    "ax.xaxis.set_major_formatter(tck.FormatStrFormatter(\"%g $\\pi$\"))\n",
    "ax.xaxis.set_major_locator(tck.MultipleLocator(base=0.5))\n",
    "# set title, labels, and legend\n",
    "plt.title(\"Violation of Bell Inequality\")\n",
    "plt.xlabel(\"Theta\")\n",
    "plt.ylabel(\"Bell witness\")\n",
    "plt.legend()"
   ]
  },
  {
   "cell_type": "markdown",
   "id": "4aac938f-5469-4579-989f-6b5443aaeb4e",
   "metadata": {
    "tags": []
   },
   "source": [
    "Aunque es evidente la violación de la desigualdad, no concuerda con el valor teórico calculado para el ángulo, que deberia ser $\\theta = \\pi/6$ resultando en $3/2$ lo cual viola la desigualdad. Experimentalmente se obtuvo que el angulo de maxima violación es $5\\pi/6$ resultando en $2.25$ como violación de la desigualdad. En un principio pense que el error se debia a la elección de las bases ortogonales para cada qubit, pero el ir cambiandolas no genero el resultado deseado. De hecho en muchos casos, no se dio violación alguna."
   ]
  }
 ],
 "metadata": {
  "kernelspec": {
   "display_name": "Python 3 (ipykernel)",
   "language": "python",
   "name": "python3"
  },
  "language_info": {
   "codemirror_mode": {
    "name": "ipython",
    "version": 3
   },
   "file_extension": ".py",
   "mimetype": "text/x-python",
   "name": "python",
   "nbconvert_exporter": "python",
   "pygments_lexer": "ipython3",
   "version": "3.10.8"
  },
  "widgets": {
   "application/vnd.jupyter.widget-state+json": {
    "state": {
     "056f6148b8c24482b6d6b27b4362f3dc": {
      "model_module": "@jupyter-widgets/controls",
      "model_module_version": "2.0.0",
      "model_name": "GridBoxModel",
      "state": {
       "children": [
        "IPY_MODEL_8735e3644d8447558894770ffa8096b9"
       ],
       "layout": "IPY_MODEL_bd67810c11364ef2a6d439dee5c1b2a4"
      }
     },
     "0d31f0769e6047629aac136ca22d96cb": {
      "model_module": "@jupyter-widgets/controls",
      "model_module_version": "2.0.0",
      "model_name": "HTMLModel",
      "state": {
       "layout": "IPY_MODEL_5f712d3003644eb7b04044be42348d63",
       "style": "IPY_MODEL_6ec7efef299c49308a029b8968601c1d",
       "value": "<h5>Job ID</h5>"
      }
     },
     "19891a4e79f240eb9efa4bd1fa4d06b2": {
      "model_module": "@jupyter-widgets/base",
      "model_module_version": "2.0.0",
      "model_name": "LayoutModel",
      "state": {}
     },
     "28d764ee27a4449db555be4ebba380d7": {
      "model_module": "@jupyter-widgets/base",
      "model_module_version": "2.0.0",
      "model_name": "LayoutModel",
      "state": {
       "width": "95px"
      }
     },
     "326a503c028f43e88166dd3598f64df6": {
      "model_module": "@jupyter-widgets/base",
      "model_module_version": "2.0.0",
      "model_name": "LayoutModel",
      "state": {
       "margin": "0px 0px 0px 37px",
       "width": "600px"
      }
     },
     "35491de45b6249c197266a9c036e54a4": {
      "model_module": "@jupyter-widgets/base",
      "model_module_version": "2.0.0",
      "model_name": "LayoutModel",
      "state": {
       "grid_area": "right",
       "padding": "0px 0px 0px 0px",
       "width": "70px"
      }
     },
     "5f467c6963d943d882a375231c187c8c": {
      "model_module": "@jupyter-widgets/controls",
      "model_module_version": "2.0.0",
      "model_name": "HTMLModel",
      "state": {
       "layout": "IPY_MODEL_6ccf6676f823419bbb40e66e13f55091",
       "style": "IPY_MODEL_f25a53c8faf745659c342282c0e24fcc",
       "value": "<p style='font-family: IBM Plex Sans, Arial, Helvetica, sans-serif; font-size: 20px; font-weight: medium;'>Circuit Properties</p>"
      }
     },
     "5f712d3003644eb7b04044be42348d63": {
      "model_module": "@jupyter-widgets/base",
      "model_module_version": "2.0.0",
      "model_name": "LayoutModel",
      "state": {
       "width": "190px"
      }
     },
     "6ccf6676f823419bbb40e66e13f55091": {
      "model_module": "@jupyter-widgets/base",
      "model_module_version": "2.0.0",
      "model_name": "LayoutModel",
      "state": {
       "margin": "0px 0px 10px 0px"
      }
     },
     "6ec7efef299c49308a029b8968601c1d": {
      "model_module": "@jupyter-widgets/controls",
      "model_module_version": "2.0.0",
      "model_name": "HTMLStyleModel",
      "state": {
       "description_width": "",
       "font_size": null,
       "text_color": null
      }
     },
     "7c66b75a42174bfe85612f9ec81b3bd1": {
      "model_module": "@jupyter-widgets/controls",
      "model_module_version": "2.0.0",
      "model_name": "HTMLStyleModel",
      "state": {
       "description_width": "",
       "font_size": null,
       "text_color": null
      }
     },
     "7de0c86b2b9644eeb735bcbf0dddfb29": {
      "model_module": "@jupyter-widgets/controls",
      "model_module_version": "2.0.0",
      "model_name": "HTMLModel",
      "state": {
       "layout": "IPY_MODEL_a824d979d1fa4d64948b50c9ee2f82b1",
       "style": "IPY_MODEL_c8063bf9f18b44498be33632fd62de29",
       "value": "<h5>Queue</h5>"
      }
     },
     "8735e3644d8447558894770ffa8096b9": {
      "model_module": "@jupyter-widgets/controls",
      "model_module_version": "2.0.0",
      "model_name": "ButtonModel",
      "state": {
       "button_style": "primary",
       "description": "Clear",
       "layout": "IPY_MODEL_35491de45b6249c197266a9c036e54a4",
       "style": "IPY_MODEL_f26e4a35e8634073be79bf10f1991937",
       "tooltip": null
      }
     },
     "8f7d82826d1b4617a3068e90a8d2a830": {
      "model_module": "@jupyter-widgets/controls",
      "model_module_version": "2.0.0",
      "model_name": "HTMLStyleModel",
      "state": {
       "description_width": "",
       "font_size": null,
       "text_color": null
      }
     },
     "93d48f3b00914b5fa72708dbcb9077d7": {
      "model_module": "@jupyter-widgets/controls",
      "model_module_version": "2.0.0",
      "model_name": "HTMLStyleModel",
      "state": {
       "description_width": "",
       "font_size": null,
       "text_color": null
      }
     },
     "a824d979d1fa4d64948b50c9ee2f82b1": {
      "model_module": "@jupyter-widgets/base",
      "model_module_version": "2.0.0",
      "model_name": "LayoutModel",
      "state": {
       "width": "70px"
      }
     },
     "ae58a275f25f4fb8b03e8f87b33ef54d": {
      "model_module": "@jupyter-widgets/controls",
      "model_module_version": "2.0.0",
      "model_name": "HBoxModel",
      "state": {
       "children": [
        "IPY_MODEL_0d31f0769e6047629aac136ca22d96cb",
        "IPY_MODEL_d0687f80a9944285861291e1d5a7e9d1",
        "IPY_MODEL_f8f0615858554315becc35ed002e56a2",
        "IPY_MODEL_7de0c86b2b9644eeb735bcbf0dddfb29",
        "IPY_MODEL_ae5a02e245c445b79a9c828b67b2ecbc"
       ],
       "layout": "IPY_MODEL_326a503c028f43e88166dd3598f64df6"
      }
     },
     "ae5a02e245c445b79a9c828b67b2ecbc": {
      "model_module": "@jupyter-widgets/controls",
      "model_module_version": "2.0.0",
      "model_name": "HTMLModel",
      "state": {
       "layout": "IPY_MODEL_19891a4e79f240eb9efa4bd1fa4d06b2",
       "style": "IPY_MODEL_8f7d82826d1b4617a3068e90a8d2a830",
       "value": "<h5>Message</h5>"
      }
     },
     "bd67810c11364ef2a6d439dee5c1b2a4": {
      "model_module": "@jupyter-widgets/base",
      "model_module_version": "2.0.0",
      "model_name": "LayoutModel",
      "state": {
       "grid_template_areas": "\n                                       \". . . . right \"\n                                        ",
       "grid_template_columns": "20% 20% 20% 20% 20%",
       "width": "100%"
      }
     },
     "c8063bf9f18b44498be33632fd62de29": {
      "model_module": "@jupyter-widgets/controls",
      "model_module_version": "2.0.0",
      "model_name": "HTMLStyleModel",
      "state": {
       "description_width": "",
       "font_size": null,
       "text_color": null
      }
     },
     "d0687f80a9944285861291e1d5a7e9d1": {
      "model_module": "@jupyter-widgets/controls",
      "model_module_version": "2.0.0",
      "model_name": "HTMLModel",
      "state": {
       "layout": "IPY_MODEL_f62c9e1599d44e0ba492f8ccbb6fefda",
       "style": "IPY_MODEL_93d48f3b00914b5fa72708dbcb9077d7",
       "value": "<h5>Backend</h5>"
      }
     },
     "f25a53c8faf745659c342282c0e24fcc": {
      "model_module": "@jupyter-widgets/controls",
      "model_module_version": "2.0.0",
      "model_name": "HTMLStyleModel",
      "state": {
       "description_width": "",
       "font_size": null,
       "text_color": null
      }
     },
     "f26e4a35e8634073be79bf10f1991937": {
      "model_module": "@jupyter-widgets/controls",
      "model_module_version": "2.0.0",
      "model_name": "ButtonStyleModel",
      "state": {
       "font_family": null,
       "font_size": null,
       "font_style": null,
       "font_variant": null,
       "font_weight": null,
       "text_color": null,
       "text_decoration": null
      }
     },
     "f62c9e1599d44e0ba492f8ccbb6fefda": {
      "model_module": "@jupyter-widgets/base",
      "model_module_version": "2.0.0",
      "model_name": "LayoutModel",
      "state": {
       "width": "145px"
      }
     },
     "f8f0615858554315becc35ed002e56a2": {
      "model_module": "@jupyter-widgets/controls",
      "model_module_version": "2.0.0",
      "model_name": "HTMLModel",
      "state": {
       "layout": "IPY_MODEL_28d764ee27a4449db555be4ebba380d7",
       "style": "IPY_MODEL_7c66b75a42174bfe85612f9ec81b3bd1",
       "value": "<h5>Status</h5>"
      }
     }
    },
    "version_major": 2,
    "version_minor": 0
   }
  }
 },
 "nbformat": 4,
 "nbformat_minor": 5
}
