{
 "cells": [
  {
   "cell_type": "code",
   "execution_count": 1,
   "id": "a51017cd-3686-4346-b98d-6042b9e8ab1e",
   "metadata": {
    "tags": []
   },
   "outputs": [],
   "source": [
    "import  numpy as np\n",
    "\n",
    "# Importing standard Qiskit libraries\n",
    "from qiskit import QuantumCircuit, transpile\n",
    "from qiskit.tools.jupyter import *\n",
    "from qiskit.visualization import *\n",
    "from ibm_quantum_widgets import *\n",
    "from qiskit_aer import AerSimulator\n",
    "from qiskit.circuit import Parameter\n",
    "\n",
    "# qiskit-ibmq-provider has been deprecated.\n",
    "# Please see the Migration Guides in https://ibm.biz/provider_migration_guide for more detail.\n",
    "from qiskit_ibm_runtime import QiskitRuntimeService, Sampler, Estimator, Session, Options\n",
    "from qiskit.quantum_info import SparsePauliOp\n",
    "\n",
    "# Loading your IBM Quantum account(s)\n",
    "service = QiskitRuntimeService(channel=\"ibm_quantum\")\n",
    "\n",
    "# Invoke a primitive inside a session. For more details see https://qiskit.org/documentation/partners/qiskit_ibm_runtime/tutorials.html\n",
    "# with Session(backend=service.backend(\"ibmq_qasm_simulator\")):\n",
    "#     result = Sampler().run(circuits).result()"
   ]
  },
  {
   "cell_type": "markdown",
   "id": "0fc63537-7f31-4d7b-a055-d7ee192a5f56",
   "metadata": {
    "tags": []
   },
   "source": [
    "Para este experimento supangamos un par entrelazado de quibits al queremos realizarle ciertas mediciones. Para cada quibit supondremos dos diferentes orientaciones, para ubicar un polarizador,elegidas por un observador ubicado junto a cada qubit. Para el observador uno dicho polarizador tendra los angulos $\\alpha$ y  $\\gamma$ respecto a un eje arbitrario. Cada orientación  puede resultar en uno de posibles resultados. Es decir, $\\alpha \\rightarrow a \\pm 1$. Analogamente, para el ángulo $\\gamma$, tendra como resultado $c \\pm 1$, determinado por las mismas variables ocultas que con la elección de $\\alpha$. La situación para el segundo observador es analoga, solo difiere en que este puede medir lo ángulos $\\beta$ y $\\gamma$ (el mismo ángulo que el primer observador) cuyos resultados en una medición pueden ser $b\\pm 1$ y $c\\pm 1$ respectivamente.\n",
    "\n",
    "\n",
    "Los resultados a, b y c deben satisfacer\n",
    "\n",
    "\\begin{equation}\n",
    "    a(b - c) = 1 - bc\n",
    "\\end{equation}\n",
    "\n",
    "Dado que cada resultado solo puede ser $\\pm1$, la anterior expresión expresión debe satisfacer la siguiente desigualdad\n",
    "\n",
    "\\begin{equation}\n",
    "    |<ab> - <ac>| \\le 1 - <bc>\n",
    "\\end{equation}\n",
    "\n",
    "\n",
    "Primero vamos generar el estado entrelazado entre un par de qubits descrito por el estado de Bell \n",
    "\\begin{equation}\n",
    "    |\\phi_{+}> = \\frac{|00> + |11>}{\\sqrt{2}}\n",
    "\\end{equation}\n",
    "    \n",
    "Mediremos entonces el segundo qubit en la orientación $Z$ y $X$, mientras que el primer qubit se medirá en una base ortogonal con un ángulo respecto al segundo qubit. Dicho angulo va a tomar valores entre $0$ y $2\\pi$."
   ]
  },
  {
   "cell_type": "markdown",
   "id": "1c0889aa-8b46-446d-b8c6-b1b2b050c1b4",
   "metadata": {
    "tags": []
   },
   "source": [
    "Creamos el circuito para realizar las medicones. Además, para evitar crear valios circuitos con la intensión de variar el ángulo entre las bases del obsevador 1 y el 2, definiremos el parámetro theta que variara entre $0$ y $2\\pi$."
   ]
  },
  {
   "cell_type": "code",
   "execution_count": 2,
   "id": "ef6a01e2-b99c-4f26-ae3d-97234710d814",
   "metadata": {
    "tags": []
   },
   "outputs": [
    {
     "data": {
      "image/png": "[encoded data removed]",
      "text/plain": [
       "<Figure size 370.906x200.667 with 1 Axes>"
      ]
     },
     "execution_count": 2,
     "metadata": {},
     "output_type": "execute_result"
    }
   ],
   "source": [
    "theta = Parameter(\"$//theta$\")\n",
    "\n",
    "bell_circuits_no_meas = QuantumCircuit(2)\n",
    "bell_circuits_no_meas.h(0)\n",
    "bell_circuits_no_meas.cx(0, 1)\n",
    "bell_circuits_no_meas.ry(theta, 0)\n",
    "bell_circuits_no_meas.draw(\"mpl\")"
   ]
  },
  {
   "cell_type": "code",
   "execution_count": 3,
   "id": "b5893579-b98e-496e-9ead-0edf91667cc2",
   "metadata": {
    "tags": []
   },
   "outputs": [],
   "source": [
    "number_of_phases = 21\n",
    "phases = np.linspace(0, 2*np.pi, number_of_phases)\n",
    "# Las fases deben estar expresadas como una lista\n",
    "individual_phases = [[ph] for ph in phases]"
   ]
  },
  {
   "cell_type": "code",
   "execution_count": 4,
   "id": "a9652345-da85-42fa-8589-eafc16f9f43f",
   "metadata": {
    "tags": []
   },
   "outputs": [],
   "source": [
    "# Conectar al servicio de qiskit\n",
    "service = QiskitRuntimeService()#\n",
    "backend = \"ibmq_qasm_simulator\"  "
   ]
  },
  {
   "cell_type": "markdown",
   "id": "82b59d48-1916-4fd7-bfb3-b9a5c5edbd76",
   "metadata": {
    "tags": []
   },
   "source": [
    "Definimos los operadores para los cuales se calcularan los valores esperados que aparecen en la desigualdad. Tendremos una base ortogonal apra cada qubit, dejando que la rotación $Y$ parametrizado para el primer qubit cambia la base de medición respecto al segundo qubit. Luego, se tendran los siguientes observables $ZZ, ZX, XZ$ y $XX$."
   ]
  },
  {
   "cell_type": "code",
   "execution_count": 13,
   "id": "9652ba32-02a3-4c63-bb34-648d3b433fd1",
   "metadata": {
    "tags": []
   },
   "outputs": [],
   "source": [
    "ZZ = SparsePauliOp.from_list([(\"ZZ\", 1)])\n",
    "ZX = SparsePauliOp.from_list([(\"ZX\", 1)])\n",
    "XZ = SparsePauliOp.from_list([(\"XZ\", 1)])\n",
    "\n",
    "ops = [ZZ, ZX, XZ]\n",
    "bell_est_sim = []                                                              # guarda el valor de los observables para cada uno de los theta\n",
    "\n",
    "# Simulator\n",
    "with Session(service=service, backend=backend):\n",
    "    estimator = Estimator()                                                     # provee los valores esperados de los observadores definidos  \n",
    "    for op in ops:\n",
    "        job = estimator.run(\n",
    "            circuits=[bell_circuits_no_meas] * len(individual_phases),         # crea un circiito para cada fase\n",
    "            observables=[op] * len(individual_phases),\n",
    "                        parameter_values=individual_phases,)\n",
    "        est_result = job.result()\n",
    "        bell_est_sim.append(est_result)"
   ]
  },
  {
   "cell_type": "markdown",
   "id": "d1f88b0b-96e5-4f3d-bd44-af660579c44b",
   "metadata": {
    "tags": []
   },
   "source": [
    "Ahora, reemplazamos los valores de los valores esperados en la desigualdad"
   ]
  },
  {
   "cell_type": "code",
   "execution_count": 20,
   "id": "acef0105-580e-459b-a117-2128ea916738",
   "metadata": {
    "tags": []
   },
   "outputs": [],
   "source": [
    "# <bell> = |<ab> - <ac>| + <bc>\n",
    "bell_est_sim = np.abs(bell_est_sim[0].values - bell_est_sim[1].values) + bell_est_sim[2].values"
   ]
  },
  {
   "cell_type": "code",
   "execution_count": 21,
   "id": "8d2c3fe1-8afa-428f-adad-82eddc17cb57",
   "metadata": {
    "tags": []
   },
   "outputs": [
    {
     "data": {
      "text/plain": [
       "<matplotlib.legend.Legend at 0x7fb62404cac0>"
      ]
     },
     "execution_count": 21,
     "metadata": {},
     "output_type": "execute_result"
    },
    {
     "data": {
      "image/png": "[encoded data removed]",
      "text/plain": [
       "<Figure size 1000x600 with 1 Axes>"
      ]
     },
     "metadata": {},
     "output_type": "display_data"
    }
   ],
   "source": [
    "import matplotlib.pyplot as plt\n",
    "import matplotlib.ticker as tck\n",
    "\n",
    "fig, ax = plt.subplots(figsize=(10, 6))\n",
    "# results from a simulator\n",
    "ax.plot(phases / np.pi, bell_est_sim, \"o-\", label=\"Bell Simulation\")\n",
    "# classical bound +-2\n",
    "ax.axhline(y=1, color=\"r\", linestyle=\"--\")\n",
    "ax.axhline(y=-1, color=\"r\", linestyle=\"--\")\n",
    "# # quantum bound, +-2√2\n",
    "# ax.axhline(y=np.sqrt(2) * 2, color=\"b\", linestyle=\"-.\")\n",
    "# ax.axhline(y=-np.sqrt(2) * 2, color=\"b\", linestyle=\"-.\")\n",
    "# set x tick labels to the unit of pi\n",
    "ax.xaxis.set_major_formatter(tck.FormatStrFormatter(\"%g $\\pi$\"))\n",
    "ax.xaxis.set_major_locator(tck.MultipleLocator(base=0.5))\n",
    "# set title, labels, and legend\n",
    "plt.title(\"Violation of Bell Inequality\")\n",
    "plt.xlabel(\"Theta\")\n",
    "plt.ylabel(\"Bell witness\")\n",
    "plt.legend()"
   ]
  }
 ],
 "metadata": {
  "kernelspec": {
   "display_name": "Python 3 (ipykernel)",
   "language": "python",
   "name": "python3"
  },
  "language_info": {
   "codemirror_mode": {
    "name": "ipython",
    "version": 3
   },
   "file_extension": ".py",
   "mimetype": "text/x-python",
   "name": "python",
   "nbconvert_exporter": "python",
   "pygments_lexer": "ipython3",
   "version": "3.10.8"
  },
  "widgets": {
   "application/vnd.jupyter.widget-state+json": {
    "state": {
     "0a1d83e161854fa5aa059ce39cc1e6be": {
      "model_module": "@jupyter-widgets/controls",
      "model_module_version": "2.0.0",
      "model_name": "ButtonModel",
      "state": {
       "button_style": "primary",
       "description": "Clear",
       "layout": "IPY_MODEL_102b2d0c827349bfbe42baae9b5dcb8c",
       "style": "IPY_MODEL_2dd0246b125f4eb4a1ea2fe11b56ab56",
       "tooltip": null
      }
     },
     "0c0f0fd4953649b5907ccf4b70310d52": {
      "model_module": "@jupyter-widgets/controls",
      "model_module_version": "2.0.0",
      "model_name": "HTMLModel",
      "state": {
       "layout": "IPY_MODEL_64f97dba69fc45f0ac5445cef77e7a4f",
       "style": "IPY_MODEL_ffe1b2b3564c4fa6af9f511cb97ddddd",
       "value": "<h5>Job ID</h5>"
      }
     },
     "102b2d0c827349bfbe42baae9b5dcb8c": {
      "model_module": "@jupyter-widgets/base",
      "model_module_version": "2.0.0",
      "model_name": "LayoutModel",
      "state": {
       "grid_area": "right",
       "padding": "0px 0px 0px 0px",
       "width": "70px"
      }
     },
     "12e8c2e60fed4ece95b7107d97759a47": {
      "model_module": "@jupyter-widgets/controls",
      "model_module_version": "2.0.0",
      "model_name": "HTMLStyleModel",
      "state": {
       "description_width": "",
       "font_size": null,
       "text_color": null
      }
     },
     "1b0ded5df7c64d58a352dad6d48db2b3": {
      "model_module": "@jupyter-widgets/controls",
      "model_module_version": "2.0.0",
      "model_name": "HTMLModel",
      "state": {
       "layout": "IPY_MODEL_75fa409e8f2645ec94ccd69cfbe249d2",
       "style": "IPY_MODEL_51ddf03d61dd4a6a8da5cfa3ba6ae373",
       "value": "<h5>Message</h5>"
      }
     },
     "2dd0246b125f4eb4a1ea2fe11b56ab56": {
      "model_module": "@jupyter-widgets/controls",
      "model_module_version": "2.0.0",
      "model_name": "ButtonStyleModel",
      "state": {
       "font_family": null,
       "font_size": null,
       "font_style": null,
       "font_variant": null,
       "font_weight": null,
       "text_color": null,
       "text_decoration": null
      }
     },
     "2fff97a5ecfc4923b2b332e04d35af23": {
      "model_module": "@jupyter-widgets/controls",
      "model_module_version": "2.0.0",
      "model_name": "HTMLStyleModel",
      "state": {
       "description_width": "",
       "font_size": null,
       "text_color": null
      }
     },
     "32051541a00441c2b89552071c70e660": {
      "model_module": "@jupyter-widgets/controls",
      "model_module_version": "2.0.0",
      "model_name": "HTMLModel",
      "state": {
       "layout": "IPY_MODEL_6fa0a88e4f4f4dbe865835a8b2207ea7",
       "style": "IPY_MODEL_12e8c2e60fed4ece95b7107d97759a47",
       "value": "<h5>Backend</h5>"
      }
     },
     "43018816a0a04dc0b1e0af2aaebc3c49": {
      "model_module": "@jupyter-widgets/controls",
      "model_module_version": "2.0.0",
      "model_name": "HTMLModel",
      "state": {
       "layout": "IPY_MODEL_46901ca797324c9799cfae2281d35194",
       "style": "IPY_MODEL_c09c6da721df431b8378c93ea4bcec79",
       "value": "<h5>Queue</h5>"
      }
     },
     "46901ca797324c9799cfae2281d35194": {
      "model_module": "@jupyter-widgets/base",
      "model_module_version": "2.0.0",
      "model_name": "LayoutModel",
      "state": {
       "width": "70px"
      }
     },
     "51ddf03d61dd4a6a8da5cfa3ba6ae373": {
      "model_module": "@jupyter-widgets/controls",
      "model_module_version": "2.0.0",
      "model_name": "HTMLStyleModel",
      "state": {
       "description_width": "",
       "font_size": null,
       "text_color": null
      }
     },
     "64f97dba69fc45f0ac5445cef77e7a4f": {
      "model_module": "@jupyter-widgets/base",
      "model_module_version": "2.0.0",
      "model_name": "LayoutModel",
      "state": {
       "width": "190px"
      }
     },
     "66abb2d84c8a4638a14b661416736ae2": {
      "model_module": "@jupyter-widgets/controls",
      "model_module_version": "2.0.0",
      "model_name": "HTMLStyleModel",
      "state": {
       "description_width": "",
       "font_size": null,
       "text_color": null
      }
     },
     "6fa0a88e4f4f4dbe865835a8b2207ea7": {
      "model_module": "@jupyter-widgets/base",
      "model_module_version": "2.0.0",
      "model_name": "LayoutModel",
      "state": {
       "width": "145px"
      }
     },
     "75fa409e8f2645ec94ccd69cfbe249d2": {
      "model_module": "@jupyter-widgets/base",
      "model_module_version": "2.0.0",
      "model_name": "LayoutModel",
      "state": {}
     },
     "78701083ae4d42fcb1f151aa8b7bc9d2": {
      "model_module": "@jupyter-widgets/controls",
      "model_module_version": "2.0.0",
      "model_name": "HTMLModel",
      "state": {
       "layout": "IPY_MODEL_fe688a0285b64c7e9642142e81ffb068",
       "style": "IPY_MODEL_2fff97a5ecfc4923b2b332e04d35af23",
       "value": "<h5>Status</h5>"
      }
     },
     "85becbdb6b33449380d8dcb3dc990133": {
      "model_module": "@jupyter-widgets/base",
      "model_module_version": "2.0.0",
      "model_name": "LayoutModel",
      "state": {
       "margin": "0px 0px 10px 0px"
      }
     },
     "8a1f81f8a26045b7bebaab32aa9678e0": {
      "model_module": "@jupyter-widgets/controls",
      "model_module_version": "2.0.0",
      "model_name": "HTMLModel",
      "state": {
       "layout": "IPY_MODEL_85becbdb6b33449380d8dcb3dc990133",
       "style": "IPY_MODEL_66abb2d84c8a4638a14b661416736ae2",
       "value": "<p style='font-family: IBM Plex Sans, Arial, Helvetica, sans-serif; font-size: 20px; font-weight: medium;'>Circuit Properties</p>"
      }
     },
     "93e3b143d56e4a7391907d35fdc3491b": {
      "model_module": "@jupyter-widgets/controls",
      "model_module_version": "2.0.0",
      "model_name": "GridBoxModel",
      "state": {
       "children": [
        "IPY_MODEL_0a1d83e161854fa5aa059ce39cc1e6be"
       ],
       "layout": "IPY_MODEL_ee06f5b4ba334a728ef2d90579aab498"
      }
     },
     "b1d5db8dfef54efe88fa3b52f3f21c8a": {
      "model_module": "@jupyter-widgets/controls",
      "model_module_version": "2.0.0",
      "model_name": "HBoxModel",
      "state": {
       "children": [
        "IPY_MODEL_0c0f0fd4953649b5907ccf4b70310d52",
        "IPY_MODEL_32051541a00441c2b89552071c70e660",
        "IPY_MODEL_78701083ae4d42fcb1f151aa8b7bc9d2",
        "IPY_MODEL_43018816a0a04dc0b1e0af2aaebc3c49",
        "IPY_MODEL_1b0ded5df7c64d58a352dad6d48db2b3"
       ],
       "layout": "IPY_MODEL_c3d869087e614b2b8cdcf12bbf0a4239"
      }
     },
     "c09c6da721df431b8378c93ea4bcec79": {
      "model_module": "@jupyter-widgets/controls",
      "model_module_version": "2.0.0",
      "model_name": "HTMLStyleModel",
      "state": {
       "description_width": "",
       "font_size": null,
       "text_color": null
      }
     },
     "c3d869087e614b2b8cdcf12bbf0a4239": {
      "model_module": "@jupyter-widgets/base",
      "model_module_version": "2.0.0",
      "model_name": "LayoutModel",
      "state": {
       "margin": "0px 0px 0px 37px",
       "width": "600px"
      }
     },
     "ee06f5b4ba334a728ef2d90579aab498": {
      "model_module": "@jupyter-widgets/base",
      "model_module_version": "2.0.0",
      "model_name": "LayoutModel",
      "state": {
       "grid_template_areas": "\n                                       \". . . . right \"\n                                        ",
       "grid_template_columns": "20% 20% 20% 20% 20%",
       "width": "100%"
      }
     },
     "fe688a0285b64c7e9642142e81ffb068": {
      "model_module": "@jupyter-widgets/base",
      "model_module_version": "2.0.0",
      "model_name": "LayoutModel",
      "state": {
       "width": "95px"
      }
     },
     "ffe1b2b3564c4fa6af9f511cb97ddddd": {
      "model_module": "@jupyter-widgets/controls",
      "model_module_version": "2.0.0",
      "model_name": "HTMLStyleModel",
      "state": {
       "description_width": "",
       "font_size": null,
       "text_color": null
      }
     }
    },
    "version_major": 2,
    "version_minor": 0
   }
  }
 },
 "nbformat": 4,
 "nbformat_minor": 5
}
